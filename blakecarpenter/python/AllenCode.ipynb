{
 "cells": [
  {
   "cell_type": "code",
   "execution_count": 1,
   "metadata": {},
   "outputs": [],
   "source": [
    "import pandas as pd\n",
    "import numpy as np\n",
    "import seaborn as sns\n",
    "\n",
    "%matplotlib inline"
   ]
  },
  {
   "cell_type": "code",
   "execution_count": 2,
   "metadata": {},
   "outputs": [
    {
     "data": {
      "text/html": [
       "<div>\n",
       "<style scoped>\n",
       "    .dataframe tbody tr th:only-of-type {\n",
       "        vertical-align: middle;\n",
       "    }\n",
       "\n",
       "    .dataframe tbody tr th {\n",
       "        vertical-align: top;\n",
       "    }\n",
       "\n",
       "    .dataframe thead th {\n",
       "        text-align: right;\n",
       "    }\n",
       "</style>\n",
       "<table border=\"1\" class=\"dataframe\">\n",
       "  <thead>\n",
       "    <tr style=\"text-align: right;\">\n",
       "      <th></th>\n",
       "      <th>clip_index</th>\n",
       "      <th>trick_index</th>\n",
       "      <th>trick</th>\n",
       "      <th>obstacle</th>\n",
       "      <th>obstacle_detailer</th>\n",
       "      <th>slowmo</th>\n",
       "      <th>bank</th>\n",
       "      <th>switch</th>\n",
       "      <th>line</th>\n",
       "      <th>video</th>\n",
       "      <th>year</th>\n",
       "    </tr>\n",
       "  </thead>\n",
       "  <tbody>\n",
       "    <tr>\n",
       "      <th>0</th>\n",
       "      <td>1</td>\n",
       "      <td>1</td>\n",
       "      <td>ollie</td>\n",
       "      <td>gap</td>\n",
       "      <td>NaN</td>\n",
       "      <td>1</td>\n",
       "      <td>0</td>\n",
       "      <td>0</td>\n",
       "      <td>0</td>\n",
       "      <td>Programming Injection</td>\n",
       "      <td>2019</td>\n",
       "    </tr>\n",
       "    <tr>\n",
       "      <th>1</th>\n",
       "      <td>2</td>\n",
       "      <td>2</td>\n",
       "      <td>sw bs kickflip</td>\n",
       "      <td>gap</td>\n",
       "      <td>bump to gap</td>\n",
       "      <td>1</td>\n",
       "      <td>1</td>\n",
       "      <td>1</td>\n",
       "      <td>0</td>\n",
       "      <td>Programming Injection</td>\n",
       "      <td>2019</td>\n",
       "    </tr>\n",
       "    <tr>\n",
       "      <th>2</th>\n",
       "      <td>3</td>\n",
       "      <td>2</td>\n",
       "      <td>sw bs kickflip</td>\n",
       "      <td>gap</td>\n",
       "      <td>bump to gap</td>\n",
       "      <td>1</td>\n",
       "      <td>1</td>\n",
       "      <td>1</td>\n",
       "      <td>0</td>\n",
       "      <td>Programming Injection</td>\n",
       "      <td>2019</td>\n",
       "    </tr>\n",
       "    <tr>\n",
       "      <th>3</th>\n",
       "      <td>4</td>\n",
       "      <td>3</td>\n",
       "      <td>fs heelflip</td>\n",
       "      <td>flat</td>\n",
       "      <td>NaN</td>\n",
       "      <td>0</td>\n",
       "      <td>0</td>\n",
       "      <td>0</td>\n",
       "      <td>1</td>\n",
       "      <td>Programming Injection</td>\n",
       "      <td>2019</td>\n",
       "    </tr>\n",
       "    <tr>\n",
       "      <th>4</th>\n",
       "      <td>4</td>\n",
       "      <td>4</td>\n",
       "      <td>fakie fs noseslide to bigspin</td>\n",
       "      <td>ledge</td>\n",
       "      <td>NaN</td>\n",
       "      <td>0</td>\n",
       "      <td>0</td>\n",
       "      <td>0</td>\n",
       "      <td>1</td>\n",
       "      <td>Programming Injection</td>\n",
       "      <td>2019</td>\n",
       "    </tr>\n",
       "  </tbody>\n",
       "</table>\n",
       "</div>"
      ],
      "text/plain": [
       "   clip_index  trick_index                          trick obstacle  \\\n",
       "0           1            1                          ollie      gap   \n",
       "1           2            2                 sw bs kickflip      gap   \n",
       "2           3            2                 sw bs kickflip      gap   \n",
       "3           4            3                    fs heelflip     flat   \n",
       "4           4            4  fakie fs noseslide to bigspin    ledge   \n",
       "\n",
       "  obstacle_detailer  slowmo  bank  switch  line                  video  year  \n",
       "0               NaN       1     0       0     0  Programming Injection  2019  \n",
       "1       bump to gap       1     1       1     0  Programming Injection  2019  \n",
       "2       bump to gap       1     1       1     0  Programming Injection  2019  \n",
       "3               NaN       0     0       0     1  Programming Injection  2019  \n",
       "4               NaN       0     0       0     1  Programming Injection  2019  "
      ]
     },
     "execution_count": 2,
     "metadata": {},
     "output_type": "execute_result"
    }
   ],
   "source": [
    "# read in csv.\n",
    "dfold = pd.read_csv(\"blake.csv\")\n",
    "df = dfold\n",
    "dfold.head()"
   ]
  },
  {
   "cell_type": "code",
   "execution_count": 3,
   "metadata": {},
   "outputs": [],
   "source": [
    "df.columns = ['clip_index', 'trick_index', 'trick', 'obstacle',\n",
    "             'obstacle_detailer', 'slowmo','bank','switch', 'line', 'video', 'year']"
   ]
  },
  {
   "cell_type": "code",
   "execution_count": 4,
   "metadata": {},
   "outputs": [
    {
     "data": {
      "text/html": [
       "<div>\n",
       "<style scoped>\n",
       "    .dataframe tbody tr th:only-of-type {\n",
       "        vertical-align: middle;\n",
       "    }\n",
       "\n",
       "    .dataframe tbody tr th {\n",
       "        vertical-align: top;\n",
       "    }\n",
       "\n",
       "    .dataframe thead th {\n",
       "        text-align: right;\n",
       "    }\n",
       "</style>\n",
       "<table border=\"1\" class=\"dataframe\">\n",
       "  <thead>\n",
       "    <tr style=\"text-align: right;\">\n",
       "      <th></th>\n",
       "      <th>clip_index</th>\n",
       "      <th>trick_index</th>\n",
       "      <th>trick</th>\n",
       "      <th>switch</th>\n",
       "      <th>obstacle</th>\n",
       "      <th>obstacle_detailer</th>\n",
       "      <th>slowmo</th>\n",
       "      <th>line</th>\n",
       "      <th>bank</th>\n",
       "      <th>video</th>\n",
       "      <th>year</th>\n",
       "    </tr>\n",
       "  </thead>\n",
       "  <tbody>\n",
       "    <tr>\n",
       "      <th>0</th>\n",
       "      <td>1</td>\n",
       "      <td>1</td>\n",
       "      <td>ollie</td>\n",
       "      <td>0</td>\n",
       "      <td>gap</td>\n",
       "      <td>NaN</td>\n",
       "      <td>1</td>\n",
       "      <td>0</td>\n",
       "      <td>0</td>\n",
       "      <td>Programming Injection</td>\n",
       "      <td>2019</td>\n",
       "    </tr>\n",
       "    <tr>\n",
       "      <th>1</th>\n",
       "      <td>2</td>\n",
       "      <td>2</td>\n",
       "      <td>sw bs kickflip</td>\n",
       "      <td>1</td>\n",
       "      <td>gap</td>\n",
       "      <td>bump to gap</td>\n",
       "      <td>1</td>\n",
       "      <td>0</td>\n",
       "      <td>1</td>\n",
       "      <td>Programming Injection</td>\n",
       "      <td>2019</td>\n",
       "    </tr>\n",
       "    <tr>\n",
       "      <th>2</th>\n",
       "      <td>3</td>\n",
       "      <td>2</td>\n",
       "      <td>sw bs kickflip</td>\n",
       "      <td>1</td>\n",
       "      <td>gap</td>\n",
       "      <td>bump to gap</td>\n",
       "      <td>1</td>\n",
       "      <td>0</td>\n",
       "      <td>1</td>\n",
       "      <td>Programming Injection</td>\n",
       "      <td>2019</td>\n",
       "    </tr>\n",
       "    <tr>\n",
       "      <th>3</th>\n",
       "      <td>4</td>\n",
       "      <td>3</td>\n",
       "      <td>fs heelflip</td>\n",
       "      <td>0</td>\n",
       "      <td>flat</td>\n",
       "      <td>NaN</td>\n",
       "      <td>0</td>\n",
       "      <td>1</td>\n",
       "      <td>0</td>\n",
       "      <td>Programming Injection</td>\n",
       "      <td>2019</td>\n",
       "    </tr>\n",
       "    <tr>\n",
       "      <th>4</th>\n",
       "      <td>4</td>\n",
       "      <td>4</td>\n",
       "      <td>fakie fs noseslide to bigspin</td>\n",
       "      <td>0</td>\n",
       "      <td>ledge</td>\n",
       "      <td>NaN</td>\n",
       "      <td>0</td>\n",
       "      <td>1</td>\n",
       "      <td>0</td>\n",
       "      <td>Programming Injection</td>\n",
       "      <td>2019</td>\n",
       "    </tr>\n",
       "  </tbody>\n",
       "</table>\n",
       "</div>"
      ],
      "text/plain": [
       "   clip_index  trick_index                          trick  switch obstacle  \\\n",
       "0           1            1                          ollie       0      gap   \n",
       "1           2            2                 sw bs kickflip       1      gap   \n",
       "2           3            2                 sw bs kickflip       1      gap   \n",
       "3           4            3                    fs heelflip       0     flat   \n",
       "4           4            4  fakie fs noseslide to bigspin       0    ledge   \n",
       "\n",
       "  obstacle_detailer  slowmo  line  bank                  video  year  \n",
       "0               NaN       1     0     0  Programming Injection  2019  \n",
       "1       bump to gap       1     0     1  Programming Injection  2019  \n",
       "2       bump to gap       1     0     1  Programming Injection  2019  \n",
       "3               NaN       0     1     0  Programming Injection  2019  \n",
       "4               NaN       0     1     0  Programming Injection  2019  "
      ]
     },
     "execution_count": 4,
     "metadata": {},
     "output_type": "execute_result"
    }
   ],
   "source": [
    "df = df[['clip_index', 'trick_index', 'trick', 'switch', 'obstacle',\n",
    "             'obstacle_detailer', 'slowmo', 'line', 'bank', 'video', 'year']]\n",
    "df.head()"
   ]
  },
  {
   "cell_type": "code",
   "execution_count": 5,
   "metadata": {},
   "outputs": [],
   "source": [
    "# coerce columns to numeric\n",
    "for col in ['switch', 'line', 'slowmo', 'bank']:\n",
    "    df[col] = pd.to_numeric(df[col], errors='coerce').fillna(0)"
   ]
  },
  {
   "cell_type": "markdown",
   "metadata": {},
   "source": [
    "# Create percentage data for waffle plot"
   ]
  },
  {
   "cell_type": "code",
   "execution_count": 6,
   "metadata": {},
   "outputs": [],
   "source": [
    "# total num_tricks \n",
    "num_tricks = pd.DataFrame(df.groupby('video')['trick_index'].max()).reset_index()\n",
    "num_tricks.columns = ['video', 'num_tricks']\n",
    "\n",
    "# total num clips\n",
    "num_clips = pd.DataFrame(df.groupby('video')['clip_index'].max()).reset_index()\n",
    "num_clips.columns = ['video', 'num_clips']\n",
    "\n",
    "# total slowmo clips\n",
    "num_slowmo = pd.DataFrame(df.groupby('video').sum()['slowmo']).reset_index()\n",
    "num_slowmo.columns = ['video', 'num_slowmo']\n",
    "\n",
    "\n",
    "# total switch/nollie tricks\n",
    "num_switch = pd.DataFrame(df.groupby('video').sum()['switch']).reset_index()\n",
    "num_switch.columns = ['video', 'num_switch']\n",
    "\n",
    "# total distinct tricks\n",
    "num_distinct = pd.DataFrame(df.groupby('video').nunique()['trick']).reset_index()\n",
    "num_distinct.columns = ['video', 'num_distinct']\n",
    "\n",
    "# total fs tricks\n",
    "num_fs = pd.DataFrame(df[['trick', 'video', 'trick_index', 'obstacle']].drop_duplicates().groupby(['video'])['trick'].apply(lambda x: x[x.str.contains('fs ')].count())).reset_index()\n",
    "num_fs.columns = ['video', 'num_fs_tricks']\n",
    "    \n",
    "# total bs tricks\n",
    "num_bs = pd.DataFrame(df[['trick', 'video', 'trick_index', 'obstacle']].drop_duplicates().groupby(['video'])['trick'].apply(lambda x: x[x.str.contains('bs ')].count())).reset_index()\n",
    "num_bs.columns = ['video', 'num_bs_tricks']\n",
    "\n",
    "df_stats = df.merge(num_tricks).merge(num_clips).merge(num_slowmo).merge(num_switch).merge(num_distinct).merge(num_fs).merge(num_bs)\n",
    "\n",
    "\n",
    "vids = df.groupby('video')\n",
    "\n",
    "# percent stair\n",
    "perc_stair = pd.DataFrame(vids['obstacle'].agg(lambda x: (len(x[x=='stair']) + len(x[x=='gap']) ) / len(x)))\n",
    "perc_stair = perc_stair.reset_index()\n",
    "perc_stair.columns = ['video', 'perc_stair']\n",
    "\n",
    "# percent ledge\n",
    "perc_ledge = pd.DataFrame(vids['obstacle'].agg(lambda x: (len(x[x=='ledge'])) / len(x)))\n",
    "perc_ledge = perc_ledge.reset_index()\n",
    "perc_ledge.columns = ['video', 'perc_ledge']\n",
    "\n",
    "# percent manual\n",
    "perc_manual = pd.DataFrame(vids['obstacle'].agg(lambda x: (len(x[x=='manual'])) / len(x)))\n",
    "perc_manual = perc_manual.reset_index()\n",
    "perc_manual.columns = ['video', 'perc_manual']\n",
    "\n",
    "# percent transition\n",
    "perc_transition = pd.DataFrame(vids['obstacle'].agg(lambda x: (len(x[x=='transition'])) / len(x)))\n",
    "perc_transition = perc_transition.reset_index()\n",
    "perc_transition.columns = ['video', 'perc_transition']\n",
    "\n",
    "# percent flat\n",
    "perc_flat = pd.DataFrame(vids['obstacle'].agg(lambda x: (len(x[x=='flat'])) / len(x)))\n",
    "perc_flat = perc_flat.reset_index()\n",
    "perc_flat.columns = ['video', 'perc_flat']\n",
    "\n",
    "# percent handrail\n",
    "perc_handrail = pd.DataFrame(vids['obstacle'].agg(lambda x: (len(x[x=='handrail'])) / len(x)))\n",
    "perc_handrail = perc_handrail.reset_index()\n",
    "perc_handrail.columns = ['video', 'perc_handrail']\n",
    "\n"
   ]
  },
  {
   "cell_type": "code",
   "execution_count": 7,
   "metadata": {},
   "outputs": [],
   "source": [
    "new_df = df\n",
    "for s in [num_tricks, num_clips, num_slowmo, num_switch, num_distinct, num_fs, num_bs,\n",
    "         perc_stair, perc_ledge, perc_manual, perc_transition, perc_flat, perc_handrail]:\n",
    "    new_df = new_df.merge(s)"
   ]
  },
  {
   "cell_type": "code",
   "execution_count": 8,
   "metadata": {},
   "outputs": [],
   "source": [
    "cols_to_keep = ['video', 'num_tricks', 'num_clips', 'num_slowmo', 'num_switch',\n",
    "       'num_distinct', 'num_fs_tricks', 'num_bs_tricks',\n",
    "       'perc_stair', 'perc_ledge', 'perc_manual', 'perc_transition',\n",
    "     'perc_handrail', 'perc_flat']"
   ]
  },
  {
   "cell_type": "code",
   "execution_count": 9,
   "metadata": {},
   "outputs": [],
   "source": [
    "stats_df = new_df[cols_to_keep].drop_duplicates().reset_index().drop(columns='index')"
   ]
  },
  {
   "cell_type": "code",
   "execution_count": 10,
   "metadata": {},
   "outputs": [],
   "source": [
    "stats_df['perc_distinct'] = stats_df.apply(lambda x: x['num_distinct'] / x['num_tricks'], axis=1)\n",
    "\n",
    "stats_df['perc_slowmo'] = stats_df.apply(lambda x: x['num_slowmo'] / x['num_tricks'], axis=1)\n",
    "\n",
    "stats_df['perc_switch'] = stats_df.apply(lambda x: x['num_switch'] / x['num_tricks'], axis=1)\n",
    "\n",
    "stats_df['perc_fs'] = stats_df.apply(lambda x: x['num_fs_tricks'] / x['num_tricks'], axis=1)\n",
    "\n",
    "stats_df['perc_bs'] = stats_df.apply(lambda x: x['num_bs_tricks'] / x['num_tricks'], axis=1)\n"
   ]
  },
  {
   "cell_type": "code",
   "execution_count": 11,
   "metadata": {},
   "outputs": [],
   "source": [
    "stats_df = stats_df.drop(columns=['num_tricks', 'num_clips', 'num_slowmo', 'num_switch', 'num_distinct', \n",
    "                       'num_fs_tricks', 'num_bs_tricks'])\n",
    "\n",
    "\n",
    "stats_df['video'] = stats_df.video.str.replace(' - ', '_', regex=False).str.replace(' ', '_', regex=False).str.replace('é', 'e', regex=False).str.replace('-', '_', regex=False).str.replace('.', '', regex=False)\n",
    "\n",
    "for col in ['perc_stair', 'perc_ledge', 'perc_manual', 'perc_transition',\n",
    "     'perc_handrail', 'perc_distinct',\n",
    "       'perc_slowmo', 'perc_switch', 'perc_fs', 'perc_bs', 'perc_flat']:\n",
    "    stats_df[col] = round(stats_df[col] * 100)"
   ]
  },
  {
   "cell_type": "code",
   "execution_count": 12,
   "metadata": {},
   "outputs": [
    {
     "data": {
      "text/html": [
       "<div>\n",
       "<style scoped>\n",
       "    .dataframe tbody tr th:only-of-type {\n",
       "        vertical-align: middle;\n",
       "    }\n",
       "\n",
       "    .dataframe tbody tr th {\n",
       "        vertical-align: top;\n",
       "    }\n",
       "\n",
       "    .dataframe thead th {\n",
       "        text-align: right;\n",
       "    }\n",
       "</style>\n",
       "<table border=\"1\" class=\"dataframe\">\n",
       "  <thead>\n",
       "    <tr style=\"text-align: right;\">\n",
       "      <th></th>\n",
       "      <th>video</th>\n",
       "      <th>perc_stair</th>\n",
       "      <th>perc_ledge</th>\n",
       "      <th>perc_manual</th>\n",
       "      <th>perc_transition</th>\n",
       "      <th>perc_handrail</th>\n",
       "      <th>perc_flat</th>\n",
       "      <th>perc_distinct</th>\n",
       "      <th>perc_slowmo</th>\n",
       "      <th>perc_switch</th>\n",
       "      <th>perc_fs</th>\n",
       "      <th>perc_bs</th>\n",
       "    </tr>\n",
       "  </thead>\n",
       "  <tbody>\n",
       "    <tr>\n",
       "      <th>0</th>\n",
       "      <td>Programming_Injection</td>\n",
       "      <td>26.0</td>\n",
       "      <td>5.0</td>\n",
       "      <td>0.0</td>\n",
       "      <td>0.0</td>\n",
       "      <td>36.0</td>\n",
       "      <td>12.0</td>\n",
       "      <td>80.0</td>\n",
       "      <td>20.0</td>\n",
       "      <td>66.0</td>\n",
       "      <td>34.0</td>\n",
       "      <td>46.0</td>\n",
       "    </tr>\n",
       "    <tr>\n",
       "      <th>1</th>\n",
       "      <td>Push_Part</td>\n",
       "      <td>10.0</td>\n",
       "      <td>7.0</td>\n",
       "      <td>0.0</td>\n",
       "      <td>0.0</td>\n",
       "      <td>39.0</td>\n",
       "      <td>2.0</td>\n",
       "      <td>89.0</td>\n",
       "      <td>29.0</td>\n",
       "      <td>32.0</td>\n",
       "      <td>45.0</td>\n",
       "      <td>45.0</td>\n",
       "    </tr>\n",
       "    <tr>\n",
       "      <th>2</th>\n",
       "      <td>Daylando</td>\n",
       "      <td>19.0</td>\n",
       "      <td>10.0</td>\n",
       "      <td>0.0</td>\n",
       "      <td>0.0</td>\n",
       "      <td>27.0</td>\n",
       "      <td>14.0</td>\n",
       "      <td>85.0</td>\n",
       "      <td>40.0</td>\n",
       "      <td>56.0</td>\n",
       "      <td>42.0</td>\n",
       "      <td>50.0</td>\n",
       "    </tr>\n",
       "    <tr>\n",
       "      <th>3</th>\n",
       "      <td>Cosmic_Vomit_2</td>\n",
       "      <td>31.0</td>\n",
       "      <td>5.0</td>\n",
       "      <td>0.0</td>\n",
       "      <td>0.0</td>\n",
       "      <td>28.0</td>\n",
       "      <td>8.0</td>\n",
       "      <td>91.0</td>\n",
       "      <td>17.0</td>\n",
       "      <td>57.0</td>\n",
       "      <td>40.0</td>\n",
       "      <td>43.0</td>\n",
       "    </tr>\n",
       "    <tr>\n",
       "      <th>4</th>\n",
       "      <td>Trust_Fall</td>\n",
       "      <td>35.0</td>\n",
       "      <td>16.0</td>\n",
       "      <td>0.0</td>\n",
       "      <td>0.0</td>\n",
       "      <td>26.0</td>\n",
       "      <td>3.0</td>\n",
       "      <td>97.0</td>\n",
       "      <td>10.0</td>\n",
       "      <td>60.0</td>\n",
       "      <td>37.0</td>\n",
       "      <td>37.0</td>\n",
       "    </tr>\n",
       "    <tr>\n",
       "      <th>5</th>\n",
       "      <td>True_Blue</td>\n",
       "      <td>25.0</td>\n",
       "      <td>11.0</td>\n",
       "      <td>0.0</td>\n",
       "      <td>0.0</td>\n",
       "      <td>48.0</td>\n",
       "      <td>2.0</td>\n",
       "      <td>86.0</td>\n",
       "      <td>14.0</td>\n",
       "      <td>73.0</td>\n",
       "      <td>37.0</td>\n",
       "      <td>65.0</td>\n",
       "    </tr>\n",
       "    <tr>\n",
       "      <th>6</th>\n",
       "      <td>Nike_SB_Chronicles,_Vol_3</td>\n",
       "      <td>39.0</td>\n",
       "      <td>0.0</td>\n",
       "      <td>0.0</td>\n",
       "      <td>0.0</td>\n",
       "      <td>17.0</td>\n",
       "      <td>6.0</td>\n",
       "      <td>89.0</td>\n",
       "      <td>39.0</td>\n",
       "      <td>44.0</td>\n",
       "      <td>33.0</td>\n",
       "      <td>56.0</td>\n",
       "    </tr>\n",
       "  </tbody>\n",
       "</table>\n",
       "</div>"
      ],
      "text/plain": [
       "                       video  perc_stair  perc_ledge  perc_manual  \\\n",
       "0      Programming_Injection        26.0         5.0          0.0   \n",
       "1                  Push_Part        10.0         7.0          0.0   \n",
       "2                   Daylando        19.0        10.0          0.0   \n",
       "3             Cosmic_Vomit_2        31.0         5.0          0.0   \n",
       "4                 Trust_Fall        35.0        16.0          0.0   \n",
       "5                  True_Blue        25.0        11.0          0.0   \n",
       "6  Nike_SB_Chronicles,_Vol_3        39.0         0.0          0.0   \n",
       "\n",
       "   perc_transition  perc_handrail  perc_flat  perc_distinct  perc_slowmo  \\\n",
       "0              0.0           36.0       12.0           80.0         20.0   \n",
       "1              0.0           39.0        2.0           89.0         29.0   \n",
       "2              0.0           27.0       14.0           85.0         40.0   \n",
       "3              0.0           28.0        8.0           91.0         17.0   \n",
       "4              0.0           26.0        3.0           97.0         10.0   \n",
       "5              0.0           48.0        2.0           86.0         14.0   \n",
       "6              0.0           17.0        6.0           89.0         39.0   \n",
       "\n",
       "   perc_switch  perc_fs  perc_bs  \n",
       "0         66.0     34.0     46.0  \n",
       "1         32.0     45.0     45.0  \n",
       "2         56.0     42.0     50.0  \n",
       "3         57.0     40.0     43.0  \n",
       "4         60.0     37.0     37.0  \n",
       "5         73.0     37.0     65.0  \n",
       "6         44.0     33.0     56.0  "
      ]
     },
     "execution_count": 12,
     "metadata": {},
     "output_type": "execute_result"
    }
   ],
   "source": [
    "stats_df"
   ]
  },
  {
   "cell_type": "code",
   "execution_count": null,
   "metadata": {},
   "outputs": [],
   "source": []
  },
  {
   "cell_type": "code",
   "execution_count": 16,
   "metadata": {},
   "outputs": [],
   "source": [
    "stats_df.to_csv('../data/square_pie.csv', index=False)"
   ]
  },
  {
   "cell_type": "markdown",
   "metadata": {},
   "source": [
    "# Number of Clips By Video"
   ]
  },
  {
   "cell_type": "code",
   "execution_count": 15,
   "metadata": {},
   "outputs": [
    {
     "ename": "AssertionError",
     "evalue": "",
     "output_type": "error",
     "traceback": [
      "\u001b[0;31m---------------------------------------------------------------------------\u001b[0m",
      "\u001b[0;31mAssertionError\u001b[0m                            Traceback (most recent call last)",
      "\u001b[0;32m<ipython-input-15-a46f8acc85bb>\u001b[0m in \u001b[0;36m<module>\u001b[0;34m\u001b[0m\n\u001b[1;32m      1\u001b[0m \u001b[0;31m# total num tricks\u001b[0m\u001b[0;34m\u001b[0m\u001b[0;34m\u001b[0m\u001b[0;34m\u001b[0m\u001b[0m\n\u001b[0;32m----> 2\u001b[0;31m \u001b[0maggregated\u001b[0m \u001b[0;34m=\u001b[0m \u001b[0mdf\u001b[0m\u001b[0;34m.\u001b[0m\u001b[0mgroupby\u001b[0m\u001b[0;34m(\u001b[0m\u001b[0;34m'video'\u001b[0m\u001b[0;34m)\u001b[0m\u001b[0;34m.\u001b[0m\u001b[0mmax\u001b[0m\u001b[0;34m(\u001b[0m\u001b[0;34m)\u001b[0m\u001b[0;34m[\u001b[0m\u001b[0;34m'clip_index'\u001b[0m\u001b[0;34m]\u001b[0m\u001b[0;34m\u001b[0m\u001b[0;34m\u001b[0m\u001b[0m\n\u001b[0m\u001b[1;32m      3\u001b[0m \u001b[0maggregated\u001b[0m\u001b[0;34m.\u001b[0m\u001b[0mname\u001b[0m \u001b[0;34m=\u001b[0m \u001b[0;34m'total_num_tricks'\u001b[0m\u001b[0;34m\u001b[0m\u001b[0;34m\u001b[0m\u001b[0m\n\u001b[1;32m      4\u001b[0m \u001b[0maggregated\u001b[0m\u001b[0;34m.\u001b[0m\u001b[0msort_values\u001b[0m\u001b[0;34m(\u001b[0m\u001b[0mascending\u001b[0m\u001b[0;34m=\u001b[0m\u001b[0;32mFalse\u001b[0m\u001b[0;34m)\u001b[0m\u001b[0;34m\u001b[0m\u001b[0;34m\u001b[0m\u001b[0m\n",
      "\u001b[0;32m~/opt/anaconda3/lib/python3.8/site-packages/pandas/core/groupby/groupby.py\u001b[0m in \u001b[0;36mmax\u001b[0;34m(self, numeric_only, min_count)\u001b[0m\n\u001b[1;32m   1555\u001b[0m     \u001b[0;34m@\u001b[0m\u001b[0mdoc\u001b[0m\u001b[0;34m(\u001b[0m\u001b[0m_groupby_agg_method_template\u001b[0m\u001b[0;34m,\u001b[0m \u001b[0mfname\u001b[0m\u001b[0;34m=\u001b[0m\u001b[0;34m\"max\"\u001b[0m\u001b[0;34m,\u001b[0m \u001b[0mno\u001b[0m\u001b[0;34m=\u001b[0m\u001b[0;32mFalse\u001b[0m\u001b[0;34m,\u001b[0m \u001b[0mmc\u001b[0m\u001b[0;34m=\u001b[0m\u001b[0;34m-\u001b[0m\u001b[0;36m1\u001b[0m\u001b[0;34m)\u001b[0m\u001b[0;34m\u001b[0m\u001b[0;34m\u001b[0m\u001b[0m\n\u001b[1;32m   1556\u001b[0m     \u001b[0;32mdef\u001b[0m \u001b[0mmax\u001b[0m\u001b[0;34m(\u001b[0m\u001b[0mself\u001b[0m\u001b[0;34m,\u001b[0m \u001b[0mnumeric_only\u001b[0m\u001b[0;34m:\u001b[0m \u001b[0mbool\u001b[0m \u001b[0;34m=\u001b[0m \u001b[0;32mFalse\u001b[0m\u001b[0;34m,\u001b[0m \u001b[0mmin_count\u001b[0m\u001b[0;34m:\u001b[0m \u001b[0mint\u001b[0m \u001b[0;34m=\u001b[0m \u001b[0;34m-\u001b[0m\u001b[0;36m1\u001b[0m\u001b[0;34m)\u001b[0m\u001b[0;34m:\u001b[0m\u001b[0;34m\u001b[0m\u001b[0;34m\u001b[0m\u001b[0m\n\u001b[0;32m-> 1557\u001b[0;31m         return self._agg_general(\n\u001b[0m\u001b[1;32m   1558\u001b[0m             \u001b[0mnumeric_only\u001b[0m\u001b[0;34m=\u001b[0m\u001b[0mnumeric_only\u001b[0m\u001b[0;34m,\u001b[0m \u001b[0mmin_count\u001b[0m\u001b[0;34m=\u001b[0m\u001b[0mmin_count\u001b[0m\u001b[0;34m,\u001b[0m \u001b[0malias\u001b[0m\u001b[0;34m=\u001b[0m\u001b[0;34m\"max\"\u001b[0m\u001b[0;34m,\u001b[0m \u001b[0mnpfunc\u001b[0m\u001b[0;34m=\u001b[0m\u001b[0mnp\u001b[0m\u001b[0;34m.\u001b[0m\u001b[0mmax\u001b[0m\u001b[0;34m\u001b[0m\u001b[0;34m\u001b[0m\u001b[0m\n\u001b[1;32m   1559\u001b[0m         )\n",
      "\u001b[0;32m~/opt/anaconda3/lib/python3.8/site-packages/pandas/core/groupby/groupby.py\u001b[0m in \u001b[0;36m_agg_general\u001b[0;34m(self, numeric_only, min_count, alias, npfunc)\u001b[0m\n\u001b[1;32m    997\u001b[0m         \u001b[0;31m# try a cython aggregation if we can\u001b[0m\u001b[0;34m\u001b[0m\u001b[0;34m\u001b[0m\u001b[0;34m\u001b[0m\u001b[0m\n\u001b[1;32m    998\u001b[0m         \u001b[0;32mtry\u001b[0m\u001b[0;34m:\u001b[0m\u001b[0;34m\u001b[0m\u001b[0;34m\u001b[0m\u001b[0m\n\u001b[0;32m--> 999\u001b[0;31m             return self._cython_agg_general(\n\u001b[0m\u001b[1;32m   1000\u001b[0m                 \u001b[0mhow\u001b[0m\u001b[0;34m=\u001b[0m\u001b[0malias\u001b[0m\u001b[0;34m,\u001b[0m \u001b[0malt\u001b[0m\u001b[0;34m=\u001b[0m\u001b[0mnpfunc\u001b[0m\u001b[0;34m,\u001b[0m \u001b[0mnumeric_only\u001b[0m\u001b[0;34m=\u001b[0m\u001b[0mnumeric_only\u001b[0m\u001b[0;34m,\u001b[0m \u001b[0mmin_count\u001b[0m\u001b[0;34m=\u001b[0m\u001b[0mmin_count\u001b[0m\u001b[0;34m,\u001b[0m\u001b[0;34m\u001b[0m\u001b[0;34m\u001b[0m\u001b[0m\n\u001b[1;32m   1001\u001b[0m             )\n",
      "\u001b[0;32m~/opt/anaconda3/lib/python3.8/site-packages/pandas/core/groupby/generic.py\u001b[0m in \u001b[0;36m_cython_agg_general\u001b[0;34m(self, how, alt, numeric_only, min_count)\u001b[0m\n\u001b[1;32m   1019\u001b[0m         \u001b[0mself\u001b[0m\u001b[0;34m,\u001b[0m \u001b[0mhow\u001b[0m\u001b[0;34m:\u001b[0m \u001b[0mstr\u001b[0m\u001b[0;34m,\u001b[0m \u001b[0malt\u001b[0m\u001b[0;34m=\u001b[0m\u001b[0;32mNone\u001b[0m\u001b[0;34m,\u001b[0m \u001b[0mnumeric_only\u001b[0m\u001b[0;34m:\u001b[0m \u001b[0mbool\u001b[0m \u001b[0;34m=\u001b[0m \u001b[0;32mTrue\u001b[0m\u001b[0;34m,\u001b[0m \u001b[0mmin_count\u001b[0m\u001b[0;34m:\u001b[0m \u001b[0mint\u001b[0m \u001b[0;34m=\u001b[0m \u001b[0;34m-\u001b[0m\u001b[0;36m1\u001b[0m\u001b[0;34m\u001b[0m\u001b[0;34m\u001b[0m\u001b[0m\n\u001b[1;32m   1020\u001b[0m     ) -> DataFrame:\n\u001b[0;32m-> 1021\u001b[0;31m         agg_blocks, agg_items = self._cython_agg_blocks(\n\u001b[0m\u001b[1;32m   1022\u001b[0m             \u001b[0mhow\u001b[0m\u001b[0;34m,\u001b[0m \u001b[0malt\u001b[0m\u001b[0;34m=\u001b[0m\u001b[0malt\u001b[0m\u001b[0;34m,\u001b[0m \u001b[0mnumeric_only\u001b[0m\u001b[0;34m=\u001b[0m\u001b[0mnumeric_only\u001b[0m\u001b[0;34m,\u001b[0m \u001b[0mmin_count\u001b[0m\u001b[0;34m=\u001b[0m\u001b[0mmin_count\u001b[0m\u001b[0;34m\u001b[0m\u001b[0;34m\u001b[0m\u001b[0m\n\u001b[1;32m   1023\u001b[0m         )\n",
      "\u001b[0;32m~/opt/anaconda3/lib/python3.8/site-packages/pandas/core/groupby/generic.py\u001b[0m in \u001b[0;36m_cython_agg_blocks\u001b[0;34m(self, how, alt, numeric_only, min_count)\u001b[0m\n\u001b[1;32m   1133\u001b[0m             \u001b[0;31m# Clean up the mess left over from split blocks.\u001b[0m\u001b[0;34m\u001b[0m\u001b[0;34m\u001b[0m\u001b[0;34m\u001b[0m\u001b[0m\n\u001b[1;32m   1134\u001b[0m             \u001b[0;32mfor\u001b[0m \u001b[0mlocs\u001b[0m\u001b[0;34m,\u001b[0m \u001b[0mresult\u001b[0m \u001b[0;32min\u001b[0m \u001b[0mzip\u001b[0m\u001b[0;34m(\u001b[0m\u001b[0msplit_items\u001b[0m\u001b[0;34m,\u001b[0m \u001b[0msplit_frames\u001b[0m\u001b[0;34m)\u001b[0m\u001b[0;34m:\u001b[0m\u001b[0;34m\u001b[0m\u001b[0;34m\u001b[0m\u001b[0m\n\u001b[0;32m-> 1135\u001b[0;31m                 \u001b[0;32massert\u001b[0m \u001b[0mlen\u001b[0m\u001b[0;34m(\u001b[0m\u001b[0mlocs\u001b[0m\u001b[0;34m)\u001b[0m \u001b[0;34m==\u001b[0m \u001b[0mresult\u001b[0m\u001b[0;34m.\u001b[0m\u001b[0mshape\u001b[0m\u001b[0;34m[\u001b[0m\u001b[0;36m1\u001b[0m\u001b[0;34m]\u001b[0m\u001b[0;34m\u001b[0m\u001b[0;34m\u001b[0m\u001b[0m\n\u001b[0m\u001b[1;32m   1136\u001b[0m                 \u001b[0;32mfor\u001b[0m \u001b[0mi\u001b[0m\u001b[0;34m,\u001b[0m \u001b[0mloc\u001b[0m \u001b[0;32min\u001b[0m \u001b[0menumerate\u001b[0m\u001b[0;34m(\u001b[0m\u001b[0mlocs\u001b[0m\u001b[0;34m)\u001b[0m\u001b[0;34m:\u001b[0m\u001b[0;34m\u001b[0m\u001b[0;34m\u001b[0m\u001b[0m\n\u001b[1;32m   1137\u001b[0m                     \u001b[0mnew_items\u001b[0m\u001b[0;34m.\u001b[0m\u001b[0mappend\u001b[0m\u001b[0;34m(\u001b[0m\u001b[0mnp\u001b[0m\u001b[0;34m.\u001b[0m\u001b[0marray\u001b[0m\u001b[0;34m(\u001b[0m\u001b[0;34m[\u001b[0m\u001b[0mloc\u001b[0m\u001b[0;34m]\u001b[0m\u001b[0;34m,\u001b[0m \u001b[0mdtype\u001b[0m\u001b[0;34m=\u001b[0m\u001b[0mlocs\u001b[0m\u001b[0;34m.\u001b[0m\u001b[0mdtype\u001b[0m\u001b[0;34m)\u001b[0m\u001b[0;34m)\u001b[0m\u001b[0;34m\u001b[0m\u001b[0;34m\u001b[0m\u001b[0m\n",
      "\u001b[0;31mAssertionError\u001b[0m: "
     ]
    }
   ],
   "source": [
    "# total num tricks\n",
    "aggregated = df.groupby('video').max()['clip_index']\n",
    "aggregated.name = 'total_num_tricks'\n",
    "aggregated.sort_values(ascending=False)"
   ]
  },
  {
   "cell_type": "markdown",
   "metadata": {},
   "source": [
    "# Top Tricks"
   ]
  },
  {
   "cell_type": "code",
   "execution_count": null,
   "metadata": {},
   "outputs": [],
   "source": [
    "top_tricks = pd.DataFrame(df.trick.value_counts()).reset_index()\n",
    "top_tricks.columns = ['trick', 'trickcount']\n",
    "top_tricks = top_tricks[top_tricks.trickcount > 3]\n",
    "top_tricks.to_csv('toptricks.csv', index=False)"
   ]
  },
  {
   "cell_type": "code",
   "execution_count": null,
   "metadata": {},
   "outputs": [],
   "source": [
    "top_tricks"
   ]
  },
  {
   "cell_type": "markdown",
   "metadata": {},
   "source": [
    "# Number of Clips Filmed By Year"
   ]
  },
  {
   "cell_type": "code",
   "execution_count": null,
   "metadata": {},
   "outputs": [],
   "source": [
    "clips_per_year = df.groupby('year').count()['clip_index']"
   ]
  },
  {
   "cell_type": "code",
   "execution_count": null,
   "metadata": {},
   "outputs": [],
   "source": [
    "sns.lineplot(data=clips_per_year)"
   ]
  },
  {
   "cell_type": "markdown",
   "metadata": {},
   "source": [
    "# Crust over Time"
   ]
  },
  {
   "cell_type": "code",
   "execution_count": null,
   "metadata": {},
   "outputs": [],
   "source": [
    "crust_by_year = df.groupby('year').sum()['crust']"
   ]
  },
  {
   "cell_type": "code",
   "execution_count": null,
   "metadata": {},
   "outputs": [],
   "source": [
    "crust_df = pd.DataFrame(crust_by_year).reset_index()\n",
    "crust_df.columns = ['year', 'num_crust_clips']\n",
    "crust_df.to_csv('crust_df.csv', index=False)"
   ]
  },
  {
   "cell_type": "markdown",
   "metadata": {},
   "source": [
    "# Obstacles Over Time\n",
    "\n",
    "To plot each obstacle over time, we first need to get the counts for obstacle by year.\n",
    "\n",
    "Then, we'll have to reformat our data to a 'long' structure suitable for plotting."
   ]
  },
  {
   "cell_type": "code",
   "execution_count": null,
   "metadata": {},
   "outputs": [],
   "source": [
    "# group by to get counts\n",
    "obs_by_time = df.groupby(['obstacle', 'year']).count()"
   ]
  },
  {
   "cell_type": "code",
   "execution_count": null,
   "metadata": {},
   "outputs": [],
   "source": [
    "# format data better\n",
    "obs_by_time = obs_by_time.reset_index()[['obstacle', 'year', 'clip_index']].rename(columns={'clip_index': 'cnt'})\n",
    "obs_by_time.to_csv('obs_by_time.csv', index=False)"
   ]
  },
  {
   "cell_type": "code",
   "execution_count": null,
   "metadata": {},
   "outputs": [],
   "source": [
    "# pivot data into desired structure\n",
    "obs_by_time = obs_by_time.pivot(index=\"year\", columns=\"obstacle\", values=\"cnt\").fillna(0)"
   ]
  },
  {
   "cell_type": "code",
   "execution_count": null,
   "metadata": {},
   "outputs": [],
   "source": [
    "# unfortunately, default plotting kind sucks but at least we get a general idea of trends\n",
    "obs_by_time.plot(figsize=(20,10), lw=4)"
   ]
  },
  {
   "cell_type": "code",
   "execution_count": null,
   "metadata": {},
   "outputs": [],
   "source": [
    "# Rerun previous code but filter out some of the obstacles\n",
    "desired_obstacles = ['rail', 'wall', 'stairs', 'transition', 'ledge']\n",
    "\n",
    "obs_by_time = df.loc[df.obstacle.isin(desired_obstacles)].groupby(['obstacle', 'year']).count()\n",
    "# format data better\n",
    "obs_by_time = obs_by_time.reset_index()[['obstacle', 'year', 'clip_index']].rename(columns={'clip_index': 'cnt'})\n",
    "# pivot data into desired structure\n",
    "obs_by_time = obs_by_time.pivot(index=\"year\", columns=\"obstacle\", values=\"cnt\").fillna(0)\n",
    "# unfortunately, default plotting kind sucks but at least we get a general idea of trends\n",
    "obs_by_time.plot(figsize=(20,10), lw=5)"
   ]
  },
  {
   "cell_type": "code",
   "execution_count": null,
   "metadata": {},
   "outputs": [],
   "source": [
    "sns.catplot(\"obstacle\", col=\"year\", \n",
    "                col_wrap=3, data=df, \n",
    "                kind=\"count\", height=2.5, aspect=.8)"
   ]
  },
  {
   "cell_type": "code",
   "execution_count": null,
   "metadata": {},
   "outputs": [],
   "source": [
    "df"
   ]
  },
  {
   "cell_type": "code",
   "execution_count": null,
   "metadata": {},
   "outputs": [],
   "source": [
    "df.loc[df.line == 1].groupby('video').nunique()"
   ]
  },
  {
   "cell_type": "code",
   "execution_count": null,
   "metadata": {},
   "outputs": [],
   "source": [
    "df.loc[df.video == \"Eastern Exposure 3\"]"
   ]
  },
  {
   "cell_type": "code",
   "execution_count": null,
   "metadata": {},
   "outputs": [],
   "source": []
  },
  {
   "cell_type": "code",
   "execution_count": null,
   "metadata": {},
   "outputs": [],
   "source": []
  },
  {
   "cell_type": "code",
   "execution_count": null,
   "metadata": {},
   "outputs": [],
   "source": []
  },
  {
   "cell_type": "code",
   "execution_count": null,
   "metadata": {},
   "outputs": [],
   "source": []
  },
  {
   "cell_type": "code",
   "execution_count": null,
   "metadata": {},
   "outputs": [],
   "source": []
  },
  {
   "cell_type": "code",
   "execution_count": null,
   "metadata": {},
   "outputs": [],
   "source": []
  },
  {
   "cell_type": "code",
   "execution_count": null,
   "metadata": {},
   "outputs": [],
   "source": []
  },
  {
   "cell_type": "code",
   "execution_count": null,
   "metadata": {},
   "outputs": [],
   "source": []
  },
  {
   "cell_type": "code",
   "execution_count": null,
   "metadata": {},
   "outputs": [],
   "source": []
  },
  {
   "cell_type": "code",
   "execution_count": null,
   "metadata": {},
   "outputs": [],
   "source": []
  }
 ],
 "metadata": {
  "kernelspec": {
   "display_name": "Python 3",
   "language": "python",
   "name": "python3"
  },
  "language_info": {
   "codemirror_mode": {
    "name": "ipython",
    "version": 3
   },
   "file_extension": ".py",
   "mimetype": "text/x-python",
   "name": "python",
   "nbconvert_exporter": "python",
   "pygments_lexer": "ipython3",
   "version": "3.8.5"
  }
 },
 "nbformat": 4,
 "nbformat_minor": 4
}
